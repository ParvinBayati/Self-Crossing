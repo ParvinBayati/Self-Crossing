{
 "cells": [
  {
   "cell_type": "code",
   "execution_count": 11,
   "id": "e3292a41-82e8-4760-9b19-dcf126b8fa14",
   "metadata": {
    "tags": []
   },
   "outputs": [
    {
     "name": "stdout",
     "output_type": "stream",
     "text": [
      "True\n"
     ]
    }
   ],
   "source": [
    "def self_crossing(distance):\n",
    "    import numpy as np\n",
    "\n",
    "    start=[0,0]\n",
    "    path=[]\n",
    "    path.append(start)\n",
    "    \n",
    "    direction = [(0,1),(-1,0),(0,-1),(1,0)]\n",
    "    \n",
    "    for k in range(len(distance)):\n",
    "        N = direction[k%4]\n",
    "        Nx = N[0]*distance[k]\n",
    "        Ny = N[1]*distance[k]\n",
    "\n",
    "        if Nx==0:\n",
    "            for j in range(np.sign(Ny),Ny+np.sign(Ny),np.sign(Ny)):\n",
    "                if [start[0],start[1]+j] in path:\n",
    "                    return True\n",
    "                else:\n",
    "                    path.append([start[0],start[1]+j])\n",
    "        else:\n",
    "            for j in range(np.sign(Nx),Nx+np.sign(Nx),np.sign(Nx)):\n",
    "                if [start[0]+j,start[1]] in path:\n",
    "                    return True\n",
    "                else:\n",
    "                    path.append([start[0]+j,start[1]])\n",
    "                \n",
    "        start=[start[0]+Nx,start[1]+Ny]\n",
    "        \n",
    "    return False \n",
    "\n",
    "distance = [2,1,1,2]\n",
    "# [1,2,3,4]#[1,1,1,2,1]\n",
    "#[1,2,3,4]#[2,1,1,2]\n",
    "print(self_crossing(distance))\n",
    "    \n"
   ]
  },
  {
   "cell_type": "code",
   "execution_count": null,
   "id": "85efaa15-15ad-449b-828b-50c204c38cf7",
   "metadata": {},
   "outputs": [],
   "source": []
  }
 ],
 "metadata": {
  "kernelspec": {
   "display_name": "Python 3 (ipykernel)",
   "language": "python",
   "name": "python3"
  },
  "language_info": {
   "codemirror_mode": {
    "name": "ipython",
    "version": 3
   },
   "file_extension": ".py",
   "mimetype": "text/x-python",
   "name": "python",
   "nbconvert_exporter": "python",
   "pygments_lexer": "ipython3",
   "version": "3.9.17"
  }
 },
 "nbformat": 4,
 "nbformat_minor": 5
}
