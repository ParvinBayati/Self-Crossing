{
 "cells": [
  {
   "cell_type": "code",
   "execution_count": 3,
   "id": "918a1a68-1f2c-464f-a5ed-bd0d4d379585",
   "metadata": {},
   "outputs": [],
   "source": [
    "import numpy as np"
   ]
  },
  {
   "cell_type": "code",
   "execution_count": 5,
   "id": "9997d3e2-3228-4961-97f0-51f8e24b7b26",
   "metadata": {},
   "outputs": [
    {
     "name": "stdout",
     "output_type": "stream",
     "text": [
      "False\n"
     ]
    }
   ],
   "source": [
    "def self_crossing(distance):\n",
    "    x=distance\n",
    "    n = len(distance)\n",
    "    for i in range(3,n):\n",
    "        if distance[i] >= distance[i-2] and distance[i-1] <= distance[i-3]: # i crossing with i-3\n",
    "            return True\n",
    "        if i>=4:\n",
    "            if distance[i-1]==distance[i-3] and distance[i]+distance[i-4]>= distance[i-2]: # i crossing with i-4\n",
    "                return True\n",
    "        if i>=5:\n",
    "            if distance[i]+distance[i-4]>=distance[i-3] and distance[i-1]+distance[i-5]>=distance[i-3] and distance[i-2]>=distance[i-4] and distance[i-3]>x[i-1]: # i crossing with i-5\n",
    "                return True\n",
    "    return False\n",
    "\n",
    "distance = [1,2,3,4]\n",
    "# [1,2,3,4]#[1,1,1,2,1]\n",
    "#[1,2,3,4]#[2,1,1,2]\n",
    "print(self_crossing(distance))"
   ]
  },
  {
   "cell_type": "code",
   "execution_count": null,
   "id": "710b4544-773b-403b-8d15-a8555b5dbb33",
   "metadata": {},
   "outputs": [],
   "source": []
  }
 ],
 "metadata": {
  "kernelspec": {
   "display_name": "Python 3 (ipykernel)",
   "language": "python",
   "name": "python3"
  },
  "language_info": {
   "codemirror_mode": {
    "name": "ipython",
    "version": 3
   },
   "file_extension": ".py",
   "mimetype": "text/x-python",
   "name": "python",
   "nbconvert_exporter": "python",
   "pygments_lexer": "ipython3",
   "version": "3.9.17"
  }
 },
 "nbformat": 4,
 "nbformat_minor": 5
}
